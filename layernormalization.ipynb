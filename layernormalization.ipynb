{
 "cells": [
  {
   "cell_type": "code",
   "execution_count": 1,
   "metadata": {},
   "outputs": [],
   "source": [
    "import numpy as np\n",
    "import math\n",
    "import torch\n",
    "import torch.nn as nn\n"
   ]
  },
  {
   "cell_type": "code",
   "execution_count": 3,
   "metadata": {},
   "outputs": [
    {
     "data": {
      "text/plain": [
       "torch.Size([2, 1, 3])"
      ]
     },
     "execution_count": 3,
     "metadata": {},
     "output_type": "execute_result"
    }
   ],
   "source": [
    "inputs = torch.Tensor([[[0.2,0.1,0.3],[0.5,0.1,0.1]]])\n",
    "B, S, E = inputs.size()\n",
    "inputs = inputs.reshape(S, B, E)\n",
    "inputs.size()"
   ]
  },
  {
   "cell_type": "code",
   "execution_count": 4,
   "metadata": {},
   "outputs": [
    {
     "data": {
      "text/plain": [
       "(torch.Size([1, 3]), torch.Size([1, 3]))"
      ]
     },
     "execution_count": 4,
     "metadata": {},
     "output_type": "execute_result"
    }
   ],
   "source": [
    "parameter_shape = inputs.size()[-2:]\n",
    "gamma = nn.Parameter(torch.ones(parameter_shape))\n",
    "beta = nn.Parameter(torch.zeros(parameter_shape))\n",
    "gamma.size(), beta.size()"
   ]
  },
  {
   "cell_type": "code",
   "execution_count": 5,
   "metadata": {},
   "outputs": [
    {
     "data": {
      "text/plain": [
       "[-1, -2]"
      ]
     },
     "execution_count": 5,
     "metadata": {},
     "output_type": "execute_result"
    }
   ],
   "source": [
    "dims = [-(i + 1) for i in range(len(parameter_shape))]\n",
    "dims"
   ]
  },
  {
   "cell_type": "code",
   "execution_count": 6,
   "metadata": {},
   "outputs": [
    {
     "data": {
      "text/plain": [
       "(torch.Size([2, 1, 1]),\n",
       " tensor([[[0.2000]],\n",
       " \n",
       "         [[0.2333]]]))"
      ]
     },
     "execution_count": 6,
     "metadata": {},
     "output_type": "execute_result"
    }
   ],
   "source": [
    "mean = inputs.mean(dim=dims, keepdim=True)\n",
    "mean.size(), mean"
   ]
  },
  {
   "cell_type": "code",
   "execution_count": 8,
   "metadata": {},
   "outputs": [
    {
     "data": {
      "text/plain": [
       "tensor([[[0.0817]],\n",
       "\n",
       "        [[0.1886]]])"
      ]
     },
     "execution_count": 8,
     "metadata": {},
     "output_type": "execute_result"
    }
   ],
   "source": [
    "var = ((inputs - mean) ** 2).mean(dim=dims, keepdim=True)\n",
    "epsilon = 1e-5\n",
    "std = (var + epsilon).sqrt()\n",
    "std"
   ]
  },
  {
   "cell_type": "code",
   "execution_count": 11,
   "metadata": {},
   "outputs": [
    {
     "data": {
      "text/plain": [
       "tensor([[[ 0.0000, -1.2238,  1.2238]],\n",
       "\n",
       "        [[ 1.4140, -0.7070, -0.7070]]])"
      ]
     },
     "execution_count": 11,
     "metadata": {},
     "output_type": "execute_result"
    }
   ],
   "source": [
    "y = (inputs - mean) / std\n",
    "y"
   ]
  },
  {
   "cell_type": "code",
   "execution_count": 12,
   "metadata": {},
   "outputs": [
    {
     "data": {
      "text/plain": [
       "tensor([[[ 0.0000, -1.2238,  1.2238]],\n",
       "\n",
       "        [[ 1.4140, -0.7070, -0.7070]]], grad_fn=<AddBackward0>)"
      ]
     },
     "execution_count": 12,
     "metadata": {},
     "output_type": "execute_result"
    }
   ],
   "source": [
    "output = gamma * y + beta\n",
    "output"
   ]
  },
  {
   "cell_type": "code",
   "execution_count": 13,
   "metadata": {},
   "outputs": [],
   "source": [
    "EPSILON = 1e-5\n",
    "class LayerNormalization(nn.Module):\n",
    "    \n",
    "    def __init__(self, parameter_shape):\n",
    "        super().__init__()\n",
    "        self.parameter_shape = parameter_shape\n",
    "        self.gamma = nn.Parameter(torch.ones(parameter_shape))\n",
    "        self.beta = nn.Parameter(torch.zeros(parameter_shape))\n",
    "        \n",
    "    def forward(self, inputs):\n",
    "        dims = [-(i + 1) for i in range(len(self.parameter_shape))]\n",
    "        mean = inputs.mean(dim=dims, keepdim=True)\n",
    "        var = ((inputs - mean)**2).mean(dim=dims, keepdim=True)\n",
    "        std = (var + EPSILON).sqrt()\n",
    "        y = (inputs - mean)/std\n",
    "        output = self.gamma * y + self.beta\n",
    "        return output\n",
    "    "
   ]
  },
  {
   "cell_type": "code",
   "execution_count": 14,
   "metadata": {},
   "outputs": [
    {
     "data": {
      "text/plain": [
       "tensor([[[ 0.5019,  0.5692,  1.0045, -0.1776,  0.6505, -1.2011, -1.3317,\n",
       "          -0.3965],\n",
       "         [ 0.0139,  0.0189, -1.2381, -1.2170, -0.0283,  2.0039,  0.7841,\n",
       "          -1.8420],\n",
       "         [ 0.9267,  1.5421, -0.9312, -0.7507,  0.4604,  1.1893, -1.0179,\n",
       "           0.4667]],\n",
       "\n",
       "        [[ 0.3465,  0.2655,  1.5916, -1.0523, -0.2505, -1.1716,  1.7419,\n",
       "          -0.6568],\n",
       "         [ 1.2620,  0.9945,  0.3676,  2.1013, -1.0636,  0.0699, -0.7911,\n",
       "          -0.5464],\n",
       "         [ 0.0454, -0.7463,  0.7628, -1.5027, -0.7360,  0.7448, -0.8616,\n",
       "          -0.9148]],\n",
       "\n",
       "        [[-1.1033, -0.5286,  0.6993,  2.3888,  1.0329, -1.3896, -0.0937,\n",
       "          -1.3551],\n",
       "         [-0.2563,  1.0367, -0.3741,  0.7118, -0.1101,  0.0823,  0.0869,\n",
       "          -1.7167],\n",
       "         [-1.7790,  0.6672, -0.3518, -0.4921,  1.4216,  0.3318,  0.5153,\n",
       "           0.5758]],\n",
       "\n",
       "        [[ 2.1925, -2.2792,  0.2460, -0.7205,  0.4874, -0.8875, -0.3072,\n",
       "           0.1986],\n",
       "         [ 0.9012, -0.9346,  1.3415,  1.4760,  0.7331, -0.5098,  0.4912,\n",
       "           0.3078],\n",
       "         [-0.7957, -1.2146,  0.7549, -0.8081, -0.4814, -0.1235, -1.0039,\n",
       "           0.9360]],\n",
       "\n",
       "        [[-0.1875, -0.9023,  0.5316, -1.6209,  0.6381,  1.5075,  0.8708,\n",
       "           0.6855],\n",
       "         [-1.2062, -1.0683,  0.1968, -1.1755, -1.2035, -0.1193, -0.8186,\n",
       "          -0.8255],\n",
       "         [ 1.4270,  0.5304,  1.8284,  0.6922, -1.2024, -0.2229,  0.3152,\n",
       "           1.3294]]], grad_fn=<AddBackward0>)"
      ]
     },
     "execution_count": 14,
     "metadata": {},
     "output_type": "execute_result"
    }
   ],
   "source": [
    "batch_size = 3\n",
    "sentence_length = 5\n",
    "embedding_dim = 8\n",
    "inputs = torch.randn(sentence_length, batch_size, embedding_dim)\n",
    "layer_norm = LayerNormalization(inputs.size()[-2:])\n",
    "out = layer_norm.forward(inputs)\n",
    "out"
   ]
  },
  {
   "cell_type": "code",
   "execution_count": null,
   "metadata": {},
   "outputs": [],
   "source": []
  }
 ],
 "metadata": {
  "kernelspec": {
   "display_name": "Python 3",
   "language": "python",
   "name": "python3"
  },
  "language_info": {
   "codemirror_mode": {
    "name": "ipython",
    "version": 3
   },
   "file_extension": ".py",
   "mimetype": "text/x-python",
   "name": "python",
   "nbconvert_exporter": "python",
   "pygments_lexer": "ipython3",
   "version": "3.11.2"
  }
 },
 "nbformat": 4,
 "nbformat_minor": 2
}
